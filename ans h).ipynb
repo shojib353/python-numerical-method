{
 "cells": [
  {
   "cell_type": "code",
   "execution_count": 10,
   "id": "44f3a297",
   "metadata": {},
   "outputs": [
    {
     "data": {
      "image/png": "[encoded data removed]",
      "text/plain": [
       "<Figure size 640x480 with 1 Axes>"
      ]
     },
     "metadata": {},
     "output_type": "display_data"
    }
   ],
   "source": [
    "#1) Fit a Lagrange polynomial to the data in the table above and plot the result.\n",
    "\n",
    "import numpy as np\n",
    "from matplotlib import pyplot as plt\n",
    "from math import sin, pi\n",
    "\n",
    "\n",
    "\n",
    "def f(t):\n",
    "    return np.exp(0.05*t)\n",
    "\n",
    "\n",
    "x = np.array([0.5, 1, 1.5, 2, 2.5])\n",
    "y = np.array([f(_) for _ in x])\n",
    "\n",
    "\n",
    "def lagrange(x_new):\n",
    "    d = x.shape[0] - 1 # 4th degree\n",
    "    s = 0.0\n",
    "    for i in range(d+1):\n",
    "        p = y[i]\n",
    "        for j in range(d+1):\n",
    "            if i != j:\n",
    "                p = p * ((x_new - x[j]) / (x[i] - x[j]))\n",
    "        s = s + p\n",
    "    return s\n",
    "\n",
    "\n",
    " \n",
    "vt = np.array([lagrange(i) for i in x])  #passing  in lagrange function\n",
    "\n",
    "\n",
    "\n",
    "plt.scatter(x, y, color='red')\n",
    "plt.plot(x, vt)  \n",
    "plt.show()\n"
   ]
  },
  {
   "cell_type": "code",
   "execution_count": 18,
   "id": "5667d30d",
   "metadata": {},
   "outputs": [
    {
     "name": "stdout",
     "output_type": "stream",
     "text": [
      "distance 2.1566666517724156\n"
     ]
    }
   ],
   "source": [
    "#2) Find distance traveled from 𝑡0 = 0.5 to 𝑡4 = 2.5 by integrating 𝑣(𝑡) using a\n",
    "#2nd order polynomial with 𝑛 = 3 segments.\n",
    "\n",
    "\n",
    "N=3\n",
    "a,b=0.5,2.5\n",
    "h=(b-a)/(2*N)\n",
    "x1=np.array([a+(i*h) for i in range(2*N+1)])\n",
    "y1=np.array([f(_) for _ in x1])\n",
    "\n",
    "\n",
    "def distance_2nd(x, y):\n",
    "    n_seg=x.shape[0]-1\n",
    "    h=(x[n_seg]-x[0])/n_seg\n",
    "    s=y[0]+y[n_seg]\n",
    "    \n",
    "    for i in range (1,n_seg):\n",
    "        if i%2!=0:\n",
    "            s=s+4*y[i]\n",
    "    \n",
    "    for j in range (2,n_seg-1):\n",
    "        if j%2==0:\n",
    "            s=s+2*y[j]\n",
    "    \n",
    "    return (h*s)/3\n",
    "\n",
    "\n",
    "\n",
    "\n",
    "av = distance_2nd(x1, y1)\n",
    "print(\"distance\",av)\n"
   ]
  },
  {
   "cell_type": "code",
   "execution_count": 19,
   "id": "ae72180e",
   "metadata": {},
   "outputs": [
    {
     "name": "stdout",
     "output_type": "stream",
     "text": [
      "Total distance traveled: 2.156666670817085\n"
     ]
    }
   ],
   "source": []
  },
  {
   "cell_type": "code",
   "execution_count": 24,
   "id": "ac75b653",
   "metadata": {},
   "outputs": [
    {
     "name": "stdout",
     "output_type": "stream",
     "text": [
      "2.156866338506619\n",
      "2.1566666517724156 2.156866338506619\n",
      "diff= 0.00019968673420356353\n"
     ]
    }
   ],
   "source": [
    "#3) Compare the accuracy of the results from 2 with an 𝑛 = 2 segment 1st order\n",
    "#integration technique\n",
    "def firdOrderInt(f,low,high,N):\n",
    "    h=(high-low)/N\n",
    "    s=f(low)+f(high)\n",
    "    for i in range(1,N):\n",
    "        xi=low+i*h\n",
    "        s=s+2*f(xi)\n",
    "    return (s*h)/2\n",
    "\n",
    "N=3\n",
    "a,b=0.5,2.5\n",
    "\n",
    "Av=firdOrderInt(f,a,b,N)\n",
    "\n",
    "\n",
    "print(Av)\n",
    "print(av,Av)\n",
    "print(\"diff=\",Av-av)"
   ]
  },
  {
   "cell_type": "code",
   "execution_count": null,
   "id": "3afb2938",
   "metadata": {},
   "outputs": [],
   "source": []
  }
 ],
 "metadata": {
  "kernelspec": {
   "display_name": "Python 3 (ipykernel)",
   "language": "python",
   "name": "python3"
  },
  "language_info": {
   "codemirror_mode": {
    "name": "ipython",
    "version": 3
   },
   "file_extension": ".py",
   "mimetype": "text/x-python",
   "name": "python",
   "nbconvert_exporter": "python",
   "pygments_lexer": "ipython3",
   "version": "3.11.5"
  }
 },
 "nbformat": 4,
 "nbformat_minor": 5
}
