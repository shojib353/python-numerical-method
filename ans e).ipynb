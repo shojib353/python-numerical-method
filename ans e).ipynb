{
 "cells": [
  {
   "cell_type": "code",
   "execution_count": 8,
   "id": "83080971",
   "metadata": {},
   "outputs": [
    {
     "data": {
      "image/png": "[encoded data removed]",
      "text/plain": [
       "<Figure size 640x480 with 1 Axes>"
      ]
     },
     "metadata": {},
     "output_type": "display_data"
    }
   ],
   "source": [
    "\n",
    "#1) Fit a 4th degree Newton’s divided difference polynomial to the data points\n",
    "\n",
    "\n",
    "import numpy as np\n",
    "from math import pi\n",
    "from numpy.random import random\n",
    "from matplotlib import pyplot as plt\n",
    "from scipy.linalg import svd\n",
    "\n",
    "def f(x):\n",
    "    return np.log(1 + x)\n",
    "\n",
    "x = np.array([0.5, 1, 1.5, 2, 2.5])\n",
    "y = np.array([f(_) for _ in x])\n",
    "\n",
    "def find_b():\n",
    "    d = x.shape[0]\n",
    "    b_table = np.zeros((d, d))\n",
    "    b_table[:, 0] = y[:]\n",
    "\n",
    "    for col in range(1, d):\n",
    "        for row in range(d-col):\n",
    "            del_x =  x[col+row] - x[row]\n",
    "            b_table[row, col] = (b_table[row+1, col-1] - b_table[row, col-1]) / del_x\n",
    "    return b_table[0, :]\n",
    "\n",
    "def ndd_polynomial(x_new):\n",
    "    b = find_b()\n",
    "    d = x.shape[0]-1 #actual degree is d-1\n",
    "    s = b[0]\n",
    "    for i in range(1,d+1):  #loop continues when d==4\n",
    "        prod = 1\n",
    "        for j in range(i):\n",
    "            prod = prod * (x_new - x[j])\n",
    "        s = s + b[i] * prod\n",
    "    return s\n",
    "\n",
    "y_ = np.array([ndd_polynomial(_) for _ in x])\n",
    "\n",
    "plt.scatter(x, y, color='red')\n",
    "plt.plot(x, y_)\n",
    "plt.show()"
   ]
  },
  {
   "cell_type": "code",
   "execution_count": 64,
   "id": "83a0c6d9",
   "metadata": {},
   "outputs": [
    {
     "name": "stdout",
     "output_type": "stream",
     "text": [
      "2\n",
      "0.5\n",
      "distance 1.7763079028773439\n"
     ]
    }
   ],
   "source": [
    "#Find distance traveled from 𝑡0 = 0.5 to 𝑡4 = 2.5 by integrating 𝑣(𝑡) using a\n",
    "#2nd order polynomial with necessary number of segments\n",
    "\n",
    "\n",
    "def distance_2nd(x, y):\n",
    "    n_seg=x.shape[0]-1\n",
    "    n = int((n_seg) / 2)\n",
    "    print(n)\n",
    "    h=(x[n_seg]-x[0])/(2*n)\n",
    "    print(h)\n",
    "    s=y[0]+y[n_seg]\n",
    "    \n",
    "    for i in range (1,n_seg):\n",
    "        if i%2!=0:\n",
    "            s=s+4*y[i]\n",
    "    \n",
    "    for j in range (2,n_seg-1):\n",
    "        if j%2==0:\n",
    "            s=s+2*y[j]\n",
    "            \n",
    "    \n",
    "    return (h*s)/3\n",
    "\n",
    "\n",
    "\n",
    "av = distance_2nd(x, y)\n",
    "print(\"distance\",av)"
   ]
  },
  {
   "cell_type": "code",
   "execution_count": 66,
   "id": "82a70667",
   "metadata": {},
   "outputs": [
    {
     "name": "stdout",
     "output_type": "stream",
     "text": [
      "1.7685821197019882 1.7763079028773439\n",
      "diff= 0.0077257831753556605\n"
     ]
    }
   ],
   "source": [
    "#3) Compare the results from 2 with an 𝑛 = 4 segments 1st order integration technique\n",
    "\n",
    "def firdOrderInt(f,low,high,N):\n",
    "    h=(high-low)/N\n",
    "    s=f(low)+f(high)\n",
    "    for i in range(1,N):\n",
    "        xi=low+i*h\n",
    "        s=s+2*f(xi)\n",
    "    return (s*h)/2\n",
    "\n",
    "N=4 # 4 segment\n",
    "a,b=0.5,2.5\n",
    "h=(b-a)/(N)\n",
    "fa=firdOrderInt(f,a,b,N)\n",
    "print(fa,av)\n",
    "print(\"diff=\",av-fa)"
   ]
  },
  {
   "cell_type": "code",
   "execution_count": null,
   "id": "e7c1e8bd",
   "metadata": {},
   "outputs": [],
   "source": []
  }
 ],
 "metadata": {
  "kernelspec": {
   "display_name": "Python 3 (ipykernel)",
   "language": "python",
   "name": "python3"
  },
  "language_info": {
   "codemirror_mode": {
    "name": "ipython",
    "version": 3
   },
   "file_extension": ".py",
   "mimetype": "text/x-python",
   "name": "python",
   "nbconvert_exporter": "python",
   "pygments_lexer": "ipython3",
   "version": "3.11.5"
  }
 },
 "nbformat": 4,
 "nbformat_minor": 5
}
