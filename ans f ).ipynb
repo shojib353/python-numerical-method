{
 "cells": [
  {
   "cell_type": "code",
   "execution_count": 9,
   "id": "168100a1",
   "metadata": {},
   "outputs": [
    {
     "name": "stdout",
     "output_type": "stream",
     "text": [
      "Computed derivative: -0.38096551928791633\n",
      "Computed derivative: 0.06977170107042907\n"
     ]
    }
   ],
   "source": [
    "# 1.Compute the partial derivatives of 𝑓(𝑥, 𝑦) =\n",
    "import numpy as np\n",
    "from math import fabs\n",
    "def f(x, y):\n",
    "    return np.exp((-x**2 + y**2) / 2)\n",
    "\n",
    "\n",
    "x = 1.75\n",
    "y = 0.27\n",
    "dx = 0.05\n",
    "dy = 0.075\n",
    "derivative = (f(x + dx, y) - f(x, y)) / dx\n",
    "derivative2 = (f(x, y + dy) - 𝑓(x,y))/dy\n",
    "print(\"Computed derivative of x:\", derivative)\n",
    "print(\"Computed derivative of y:\", derivative2)"
   ]
  },
  {
   "cell_type": "code",
   "execution_count": 15,
   "id": "3fc8722e",
   "metadata": {},
   "outputs": [
    {
     "name": "stdout",
     "output_type": "stream",
     "text": [
      "Min of x= 0.02498438150838167\n",
      "Min of x= -0.03755278384825663\n"
     ]
    }
   ],
   "source": [
    "# 2. Minimize 𝑓(𝑥, 𝑦) with respect to 𝑥 and 𝑦, using gradient descent as follows:\n",
    "\n",
    "\n",
    "\n",
    "def pd(x, y, dx=0.05, dy=0.075):\n",
    "    \n",
    "    return (f(x + dx, y) - f(x, y)) / dx,(f(x, y + dy) - 𝑓(x,y))/dy\n",
    "\n",
    "\n",
    "def gradient_descent(pd, x0,y0, max_iter=500, tol=0.05):\n",
    "    x=x0\n",
    "    y=y0\n",
    "    for k in range(1, max_iter+1):\n",
    "        px_grad,py_grad  = pd(x0,y0)\n",
    "        \n",
    "        x = x - px_grad\n",
    "        y = y - py_grad\n",
    "        \n",
    "        \n",
    "        if abs(px_grad) < tol and abs(py_grad) < tol:\n",
    "            break\n",
    "        \n",
    "    return x,y\n",
    "\n",
    "x0,y0 = 0,0\n",
    "minx,miny = gradient_descent(pd,x0,y0)\n",
    "print(\"Min of x=\", minx)\n",
    "print(\"Min of x=\",miny)"
   ]
  }
 ],
 "metadata": {
  "kernelspec": {
   "display_name": "Python 3 (ipykernel)",
   "language": "python",
   "name": "python3"
  },
  "language_info": {
   "codemirror_mode": {
    "name": "ipython",
    "version": 3
   },
   "file_extension": ".py",
   "mimetype": "text/x-python",
   "name": "python",
   "nbconvert_exporter": "python",
   "pygments_lexer": "ipython3",
   "version": "3.11.5"
  }
 },
 "nbformat": 4,
 "nbformat_minor": 5
}
