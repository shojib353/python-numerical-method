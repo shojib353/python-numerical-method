{
 "cells": [
  {
   "cell_type": "code",
   "execution_count": 8,
   "id": "9609a43d",
   "metadata": {},
   "outputs": [
    {
     "name": "stdout",
     "output_type": "stream",
     "text": [
      "derivative is -0.1636983714422688\n"
     ]
    }
   ],
   "source": [
    "#1) Compute the derivative of 𝑓(𝑥) = 𝑒 −𝑥**2\n",
    "#at 𝑥 = 1.75 using the formula given above.\n",
    "\n",
    "import numpy as np\n",
    "from math import fabs\n",
    "def f(x):\n",
    "    return np.exp(-x**2)\n",
    "\n",
    "x = 1.75\n",
    "dx = 0.05\n",
    "derivative = (-f(x + 2*dx) + 8*f(x + dx) - 8*f(x - dx) + f(x - 2*dx)) / (12 * dx)\n",
    "print(\"derivative is\", derivative)"
   ]
  },
  {
   "cell_type": "code",
   "execution_count": 7,
   "id": "ace9188b",
   "metadata": {},
   "outputs": [
    {
     "name": "stdout",
     "output_type": "stream",
     "text": [
      "Min of x= 2.0699998749920154\n"
     ]
    }
   ],
   "source": [
    "# 2) Minimize 𝑓(𝑥) with respect to 𝑥, using gradient descent as follows:\n",
    "\n",
    "import numpy as np\n",
    "from math import fabs\n",
    "def f(x):\n",
    "    return np.exp(-x**2)\n",
    "\n",
    "def f_prime(x):\n",
    "    return (-f(x + 2*dx) + 8*f(x + dx) - 8*f(x - dx) + f(x - 2*dx)) / (12 * dx)\n",
    "\n",
    "def gradient_descent(f_prime, x0, max_iter=500, tol=0.005):\n",
    "    x_k = x0\n",
    "    for k in range(1, max_iter+1):\n",
    "        grad = f_prime(x_k)\n",
    "        x_new = x_k - (1 / k)* grad \n",
    "        if abs(x_new - x_k) < tol:\n",
    "            break\n",
    "        x_k = x_new\n",
    "    return x_k\n",
    "\n",
    "x0 = 1.75\n",
    "min = gradient_descent(f_prime, x0)\n",
    "print(\"Min of x=\", min)"
   ]
  },
  {
   "cell_type": "code",
   "execution_count": 9,
   "id": "10945453",
   "metadata": {},
   "outputs": [
    {
     "name": "stdout",
     "output_type": "stream",
     "text": [
      "-0.163697178343856\n",
      "TPRE= 0.0007288448245809671\n"
     ]
    }
   ],
   "source": [
    "#3)Find the true percent relative error of approximating the derivative\n",
    "\n",
    "\n",
    "import sympy as sp\n",
    "from math import fabs\n",
    "\n",
    "# Define the symbol\n",
    "x = sp.symbols('x')\n",
    "\n",
    "# Define the function\n",
    "f = sp.exp(-x**2)\n",
    "\n",
    "# Compute the first derivative\n",
    "dev= sp.diff(f, x) #first derivative\n",
    "\n",
    "\n",
    "\n",
    "f_dev_ = dev.evalf(subs={x: 1.75}) #input x on first derivative\n",
    "\n",
    "print(f_dev_ )\n",
    "\n",
    "error = fabs((f_dev_ - derivative) / f_dev_) * 100\n",
    "print(\"TPRE=\", error)\n",
    "\n",
    "\n"
   ]
  },
  {
   "cell_type": "code",
   "execution_count": null,
   "id": "549ebf42",
   "metadata": {},
   "outputs": [],
   "source": []
  }
 ],
 "metadata": {
  "kernelspec": {
   "display_name": "Python 3 (ipykernel)",
   "language": "python",
   "name": "python3"
  },
  "language_info": {
   "codemirror_mode": {
    "name": "ipython",
    "version": 3
   },
   "file_extension": ".py",
   "mimetype": "text/x-python",
   "name": "python",
   "nbconvert_exporter": "python",
   "pygments_lexer": "ipython3",
   "version": "3.11.5"
  }
 },
 "nbformat": 4,
 "nbformat_minor": 5
}
